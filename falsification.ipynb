{
 "cells": [
  {
   "cell_type": "code",
   "execution_count": null,
   "id": "8b09f54f",
   "metadata": {},
   "outputs": [],
   "source": [
    "# library\n",
    "import pandas as pd\n",
    "import numpy as np\n",
    "import matplotlib.pyplot as plt\n",
    "plt.rcParams['figure.figsize'] = (15, 10)"
   ]
  },
  {
   "cell_type": "code",
   "execution_count": null,
   "id": "58e6a228",
   "metadata": {
    "collapsed": true
   },
   "outputs": [],
   "source": [
    "# Read the excel file\n",
    "data_raw = pd.read_excel(\"data/crimes_mensuels.xlsx\", sheet_name=\"France_Entière\")"
   ]
  },
  {
   "cell_type": "code",
   "execution_count": null,
   "id": "19a26c4d",
   "metadata": {},
   "outputs": [],
   "source": [
    "falsifications_i89i90i91 = data_raw.loc[88:90, '_2021_12':'_2015_01']\n",
    "falsifications_i89i90i91"
   ]
  },
  {
   "cell_type": "code",
   "execution_count": null,
   "id": "8b8833c7",
   "metadata": {
    "scrolled": false
   },
   "outputs": [],
   "source": [
    "# reversing the dataframe\n",
    "falsifications_i89i90i91 = falsifications_i89i90i91[falsifications_i89i90i91.columns[::-1]]\n",
    "falsifications_i89i90i91"
   ]
  },
  {
   "cell_type": "code",
   "execution_count": null,
   "id": "4a3edb9f",
   "metadata": {},
   "outputs": [],
   "source": [
    "# dataframe for plots\n",
    "row90 = falsifications_i89i90i91.iloc[2]\n",
    "row89 = falsifications_i89i90i91.iloc[1]\n",
    "row88 = falsifications_i89i90i91.iloc[0]\n",
    "\n",
    "df=pd.DataFrame(\n",
    "    {\n",
    "        'period': row88.index,\n",
    "        'Falsification et usages de chèques volés': row88.values,\n",
    "        'Falsification et usages de cartes de crédit': row89.values,\n",
    "        'Escroqueries et abus de confiance': row90.values\n",
    "    })\n",
    "\n",
    "# multiple line plots\n",
    "plt.plot( 'period', 'Falsification et usages de chèques volés', data=df, marker='', markerfacecolor='blue', markersize=12, color='blue', linewidth=3)\n",
    "plt.plot( 'period', 'Falsification et usages de cartes de crédit', data=df, marker='', markersize=12, color='olive', linewidth=3)\n",
    "plt.plot( 'period', 'Escroqueries et abus de confiance', data=df, marker='', markersize=12, color='orange', linewidth=3)\n",
    "\n",
    "# title, ticks\n",
    "plt.title(\"Évolution des falsifications & escroqueries - 2015 à 2021\", fontsize=18)\n",
    "plt.xticks(np.arange(0, row88.index.size, 5), rotation=45)\n",
    "plt.ylabel('NOMBRE DE FALSIFICATIONS', fontsize=14)\n",
    "plt.xlabel('ANNÉES', fontsize=14)\n",
    "\n",
    "# show legend\n",
    "plt.legend(fontsize=18)\n",
    "\n",
    "# show graph\n",
    "plt.show()\n"
   ]
  }
 ],
 "metadata": {
  "kernelspec": {
   "display_name": "Python 3.9.13 64-bit (microsoft store)",
   "language": "python",
   "name": "python3"
  },
  "language_info": {
   "codemirror_mode": {
    "name": "ipython",
    "version": 3
   },
   "file_extension": ".py",
   "mimetype": "text/x-python",
   "name": "python",
   "nbconvert_exporter": "python",
   "pygments_lexer": "ipython3",
   "version": "3.9.13"
  },
  "vscode": {
   "interpreter": {
    "hash": "3731249a38934cd4180149ac5fc03b8272f4a2a297bab802cc56f6909b56b2e3"
   }
  }
 },
 "nbformat": 4,
 "nbformat_minor": 5
}
