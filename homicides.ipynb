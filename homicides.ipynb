{
 "cells": [
  {
   "cell_type": "code",
   "execution_count": null,
   "id": "9aa6a2e3",
   "metadata": {},
   "outputs": [],
   "source": [
    "# library\n",
    "import pandas as pd\n",
    "import numpy as np\n",
    "import matplotlib.pyplot as plt\n",
    "plt.rcParams['figure.figsize'] = (15, 10)\n",
    "#plt.figure(figsize=(10, 10))"
   ]
  },
  {
   "cell_type": "code",
   "execution_count": null,
   "id": "8c8bc528",
   "metadata": {},
   "outputs": [],
   "source": [
    "# Read the excel file\n",
    "homicides_raw = pd.read_excel(\"data/crimes_mensuels.xlsx\", sheet_name=\"France_Entière\")"
   ]
  },
  {
   "cell_type": "code",
   "execution_count": null,
   "id": "5e2af069",
   "metadata": {},
   "outputs": [],
   "source": [
    "homicides_i2i3 = homicides_raw.loc[1:2, '_2021_12':'_2015_01']"
   ]
  },
  {
   "cell_type": "code",
   "execution_count": null,
   "id": "3b609498",
   "metadata": {},
   "outputs": [],
   "source": [
    "homicides_i2i3"
   ]
  },
  {
   "cell_type": "code",
   "execution_count": null,
   "id": "a220794a",
   "metadata": {},
   "outputs": [],
   "source": [
    "homicides_i51 = homicides_raw.loc[50:50, '_2021_12':'_2015_01']"
   ]
  },
  {
   "cell_type": "code",
   "execution_count": null,
   "id": "f6d4b60c",
   "metadata": {
    "scrolled": false
   },
   "outputs": [],
   "source": [
    "homicides_i51"
   ]
  },
  {
   "cell_type": "code",
   "execution_count": null,
   "id": "05a7a8c8",
   "metadata": {},
   "outputs": [],
   "source": [
    "homicides_concat = pd.concat([homicides_i2i3, homicides_i51])"
   ]
  },
  {
   "cell_type": "code",
   "execution_count": null,
   "id": "fc9a20b7",
   "metadata": {
    "scrolled": true
   },
   "outputs": [],
   "source": [
    "homicides_concat\n"
   ]
  },
  {
   "cell_type": "code",
   "execution_count": null,
   "id": "450927cb",
   "metadata": {},
   "outputs": [],
   "source": [
    "# Homicides for the plot\n",
    "homicides_sum_per_months = homicides_concat.sum(axis=0)"
   ]
  },
  {
   "cell_type": "code",
   "execution_count": null,
   "id": "2831023a",
   "metadata": {},
   "outputs": [],
   "source": [
    "# reversing the dataframe\n",
    "homicides_sum_per_months = homicides_sum_per_months[::-1]  \n",
    "homicides_sum_per_months"
   ]
  },
  {
   "cell_type": "code",
   "execution_count": null,
   "id": "57295971",
   "metadata": {},
   "outputs": [],
   "source": [
    "attempted_homicides_i4i5 = homicides_raw.loc[3:4, '_2021_12':'_2015_01']"
   ]
  },
  {
   "cell_type": "code",
   "execution_count": null,
   "id": "4442684a",
   "metadata": {},
   "outputs": [],
   "source": [
    "attempted_homicides_i4i5"
   ]
  },
  {
   "cell_type": "code",
   "execution_count": null,
   "id": "48d50e79",
   "metadata": {},
   "outputs": [],
   "source": [
    "# Attempted homicides for the plot\n",
    "attempted_homicides_sum_per_months = attempted_homicides_i4i5.sum(axis=0)"
   ]
  },
  {
   "cell_type": "code",
   "execution_count": null,
   "id": "2d77f15a",
   "metadata": {},
   "outputs": [],
   "source": [
    "# reversing the dataframe\n",
    "attempted_homicides_sum_per_months = attempted_homicides_sum_per_months[::-1]  \n",
    "attempted_homicides_sum_per_months"
   ]
  },
  {
   "cell_type": "code",
   "execution_count": null,
   "id": "f6213cef",
   "metadata": {},
   "outputs": [],
   "source": [
    "# dataframe for plots\n",
    "df=pd.DataFrame(\n",
    "    {\n",
    "        'period': homicides_sum_per_months.index,\n",
    "        'homicides': homicides_sum_per_months.values,\n",
    "        'tentatives homicides': attempted_homicides_sum_per_months.values\n",
    "    })\n",
    "\n",
    "# multiple line plots\n",
    "plt.plot( 'period', 'homicides', data=df, marker='', markerfacecolor='blue', markersize=12, color='blue', linewidth=3)\n",
    "plt.plot( 'period', 'tentatives homicides', data=df, marker='', markersize=12, color='olive', linewidth=3)\n",
    "\n",
    "# title, ticks\n",
    "plt.title(\"Évolution des homicides & tentatives d'homicides - 2015 à 2021\", fontsize=18)\n",
    "plt.xticks(np.arange(0, homicides_sum_per_months.index.size, 5), rotation=45)\n",
    "plt.ylabel(\"NOMBRE D'HOMICIDE (x1000)\", fontsize=14)\n",
    "plt.xlabel('ANNÉES', fontsize=14)\n",
    "\n",
    "# show legend\n",
    "plt.legend(fontsize=18)\n",
    "\n",
    "# show graph\n",
    "plt.show()\n"
   ]
  }
 ],
 "metadata": {
  "kernelspec": {
   "display_name": "Python 3.9.13 64-bit (microsoft store)",
   "language": "python",
   "name": "python3"
  },
  "language_info": {
   "codemirror_mode": {
    "name": "ipython",
    "version": 3
   },
   "file_extension": ".py",
   "mimetype": "text/x-python",
   "name": "python",
   "nbconvert_exporter": "python",
   "pygments_lexer": "ipython3",
   "version": "3.9.13"
  },
  "vscode": {
   "interpreter": {
    "hash": "3731249a38934cd4180149ac5fc03b8272f4a2a297bab802cc56f6909b56b2e3"
   }
  }
 },
 "nbformat": 4,
 "nbformat_minor": 5
}
