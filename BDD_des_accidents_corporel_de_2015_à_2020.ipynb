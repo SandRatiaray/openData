{
 "cells": [
  {
   "cell_type": "code",
   "execution_count": null,
   "id": "ff6cd733",
   "metadata": {},
   "outputs": [],
   "source": [
    "#!pip install matplotlib\n",
    "#!pip install numpy"
   ]
  },
  {
   "cell_type": "code",
   "execution_count": null,
   "id": "290a7c97",
   "metadata": {},
   "outputs": [],
   "source": [
    "# Render our plots inline\n",
    "%matplotlib inline\n",
    "\n",
    "import pandas as pd\n",
    "import numpy as np\n",
    "import matplotlib.pyplot as plt\n",
    "\n",
    "plt.rcParams['figure.figsize'] = (15, 10)"
   ]
  },
  {
   "cell_type": "code",
   "execution_count": null,
   "id": "f846e5f7",
   "metadata": {},
   "outputs": [],
   "source": [
    "\n",
    "# a1 = pd.read_csv(\"./data/2015.csv\", sep=\";\")\n",
    "# a2 = pd.read_csv(\"./data/2016.csv\", sep=\";\")\n",
    "\n",
    "# fpour lire les fichiers de 2015 à 2020\n",
    "# et les concaténer dans un seul dataframe\n",
    "from operator import ne\n",
    "\n",
    "\n",
    "for i in range(2015, 2021):\n",
    "    if i == 2015:\n",
    "        df = pd.read_csv(f\"./data/{i}.csv\", sep=\";\")\n",
    "    else:\n",
    "        df = pd.concat([df, pd.read_csv(f\"./data/{i}.csv\", sep=\";\")])\n",
    "new_df = df.loc[:, ['Année', 'Lieu Admin Actuel - Territoire Nom', 'Type Accident - Libellé', 'Catégorie véhicule', 'Age véhicule']]\n",
    "# new_df.tail(3)\n",
    "# fusionner les lignes Moto lourde, légère et Cyclo  dans moto, \n",
    "# et les lignes indeterminable et non renseigné dans autre\n",
    "new_df['Catégorie véhicule'] = new_df['Catégorie véhicule'].replace({'Moto lourde': 'Moto', 'Moto légère': 'Moto', 'Cyclo': 'Moto', 'Indéterminable': 'Autres'})\n",
    "new_df\n"
   ]
  },
  {
   "cell_type": "code",
   "execution_count": null,
   "id": "a2a5567c",
   "metadata": {},
   "outputs": [],
   "source": [
    "# df.info()\n",
    "new_df.info()"
   ]
  },
  {
   "cell_type": "code",
   "execution_count": null,
   "metadata": {},
   "outputs": [],
   "source": [
    "# obtenir le nombre d'accidents par age de la voiture en utilisant le groupby et le sort_values\n",
    "accident_par_age_vehicule = (new_df.groupby('Age véhicule')['Age véhicule'].count()).reset_index(name='nombre').sort_values(['nombre'], ascending=False)\n",
    "\n",
    "# new_df.groupby('Age véhicule').size()\n",
    "top10_accident_par_age_vehicule = accident_par_age_vehicule.head(10)"
   ]
  },
  {
   "cell_type": "markdown",
   "id": "b3f697e1",
   "metadata": {},
   "source": [
    "Nombre d'accident par âge du véhicule de 2015 à 2020"
   ]
  },
  {
   "cell_type": "code",
   "execution_count": null,
   "id": "8a95cdd4",
   "metadata": {},
   "outputs": [],
   "source": [
    "# accident par age du véhicule par année\n",
    "accident_par_age_vehicule_par_annee = new_df.groupby(['Année', 'Age véhicule']).size().reset_index(name=\"Nombre d'accident\").sort_values([\"Age véhicule\"], ascending=True)\n",
    "accident_par_age_vehicule_par_annee.head(3)\n",
    "# accident par age du véhicule par année en utilisant matplotlib et numpy\n",
    "# plt.barh(accident_par_age_vehicule_par_annee['Année'], accident_par_age_vehicule_par_annee[\"Nombre d'accident\"])\n",
    "# plt.show()\n",
    "\n"
   ]
  },
  {
   "cell_type": "markdown",
   "id": "5d5d8027",
   "metadata": {},
   "source": [
    "Accident par age du véhicule par année de 2015 à 2020"
   ]
  },
  {
   "cell_type": "code",
   "execution_count": null,
   "id": "4bb64971",
   "metadata": {},
   "outputs": [],
   "source": [
    "data_0_3 = accident_par_age_vehicule_par_annee[accident_par_age_vehicule_par_annee['Age véhicule'] <= 3]\n",
    "data_4_10 = accident_par_age_vehicule_par_annee[(accident_par_age_vehicule_par_annee['Age véhicule'] > 3) & (accident_par_age_vehicule_par_annee['Age véhicule'] <= 10)]\n",
    "data_11_20 = accident_par_age_vehicule_par_annee[(accident_par_age_vehicule_par_annee['Age véhicule'] > 10) & (accident_par_age_vehicule_par_annee['Age véhicule'] <= 20)]"
   ]
  },
  {
   "cell_type": "code",
   "execution_count": null,
   "id": "e7f918c8",
   "metadata": {},
   "outputs": [],
   "source": [
    "barWidth = 0.3\n",
    "# creation de la bar Data_0_3\n",
    "plt.bar(data_0_3['Année']-0.3, data_0_3['Nombre d\\'accident'], label='Moins de 3 ans', width=barWidth)\n",
    "# afficher les valeur des barres sur le graphique pour data_0_3\n",
    "\n",
    "# creation de la bar Data_4_10\n",
    "plt.bar(data_4_10['Année'], data_4_10['Nombre d\\'accident'], label='De 4 à 10 ans', width=barWidth)\n",
    "# creation de la bar Data_11_20\n",
    "plt.bar(data_11_20['Année']+0.3, data_11_20['Nombre d\\'accident'], label='De 11 à 20 ans', width=barWidth)\n",
    "\n",
    "plt.title('Nombre d\\'accidents par âge du véhicule de 2015 à 2020', fontsize=18)\n",
    "\n",
    "# ppour chaque bar on affiche le nombre d'accident\n",
    "# afficher la légende du graphique à l'extérieur du graphique\n",
    "\n",
    "plt.legend(fontsize=14, bbox_to_anchor=(0.5, -0.05), ncol=3)\n",
    "plt.show()\n"
   ]
  },
  {
   "cell_type": "markdown",
   "id": "14c12b92",
   "metadata": {},
   "source": [
    "Accident par type de véhicule par année de 2015 à 2020"
   ]
  },
  {
   "cell_type": "code",
   "execution_count": null,
   "id": "ce295952",
   "metadata": {},
   "outputs": [],
   "source": [
    "accident_par_type_vehicule_par_annee = (new_df.groupby(['Année', 'Catégorie véhicule'])['Catégorie véhicule'].count()).reset_index(name=\"Nombre d'accident\").sort_values(['Année'], ascending=False)"
   ]
  },
  {
   "cell_type": "code",
   "execution_count": null,
   "metadata": {},
   "outputs": [],
   "source": [
    "# faire un graphique en ligne pour les accidents par type de véhicule par année\n",
    "# faire une ligne pour chaque type de véhicule\n",
    "plt.title('Nombre d\\'accidents par type de véhicule de 2015 à 2020', fontsize=18)\n",
    "for i in accident_par_type_vehicule_par_annee['Catégorie véhicule'].unique():\n",
    "    df = accident_par_type_vehicule_par_annee[accident_par_type_vehicule_par_annee['Catégorie véhicule'] == i]\n",
    "    plt.plot(df['Année'], df[\"Nombre d'accident\"], label=i, marker='o')\n",
    "    # afficher la légende du graphique à l'extérieur du graphique\n",
    "    plt.legend(bbox_to_anchor=(1.05, 1), borderaxespad=0.)\n",
    "    # print(i)"
   ]
  },
  {
   "cell_type": "markdown",
   "id": "3b2528aa",
   "metadata": {},
   "source": [
    "Accident par térritoire"
   ]
  },
  {
   "cell_type": "code",
   "execution_count": null,
   "id": "2d042daf",
   "metadata": {},
   "outputs": [],
   "source": [
    "accident_par_territoire_par_annee = (new_df.groupby(['Année', 'Lieu Admin Actuel - Territoire Nom'])['Lieu Admin Actuel - Territoire Nom'].count()).reset_index(name=\"Nombre d'accident\").sort_values(['Année'], ascending=False)\n",
    "accident_par_territoire_par_annee.head(3)"
   ]
  },
  {
   "cell_type": "code",
   "execution_count": null,
   "id": "0a501018",
   "metadata": {},
   "outputs": [],
   "source": [
    "#  Graphe en cammenbert pour les accidents par térritoire par année\n",
    "# accident_par_territoire = (new_df.groupby('Lieu Admin Actuel - Territoire Nom')['Lieu Admin Actuel - Territoire Nom'].count()).reset_index(name='nombre').sort_values(['nombre'], ascending=False)\n",
    "# accident_par_territoire\n",
    "\n",
    "\n",
    "# utiliser matplotlib pour faire un graph en barre pour les accidents par térritoire par année\n",
    "plt.title('Nombre d\\'accidents par térritoire par année de 2015 à 2020', fontsize=18)\n",
    "for i in accident_par_territoire_par_annee['Lieu Admin Actuel - Territoire Nom'].unique():\n",
    "    df = accident_par_territoire_par_annee[accident_par_territoire_par_annee['Lieu Admin Actuel - Territoire Nom'] == i]\n",
    "    # ajouter la valeur de l'axe y sur le graph\n",
    "    for index, row in df.iterrows():\n",
    "        plt.text(row['Année'], row['Nombre d\\'accident'], row['Nombre d\\'accident'], color='black', ha=\"center\", va=\"bottom\")\n",
    "    plt.bar(df['Année'], df['Nombre d\\'accident'], label=i)\n",
    "    plt.legend()"
   ]
  },
  {
   "cell_type": "markdown",
   "id": "b28bc1df",
   "metadata": {},
   "source": [
    "Accident par type d'accident"
   ]
  },
  {
   "cell_type": "code",
   "execution_count": null,
   "id": "40585373",
   "metadata": {},
   "outputs": [],
   "source": [
    "# Les accidents par type d'accident par année\n",
    "accident_par_type_accident_par_annee = (new_df.groupby(['Année', 'Type Accident - Libellé'])['Type Accident - Libellé'].count()).reset_index(name='nombre').sort_values(['Année'], ascending=False)\n",
    "accident_par_type_accident_par_annee.head(3)"
   ]
  },
  {
   "cell_type": "code",
   "execution_count": null,
   "id": "65725b20",
   "metadata": {},
   "outputs": [],
   "source": [
    "# faire un graphique en ligne pour les accidents par type d'accident par année\n",
    "# faire une ligne pour chaque type d'accident\n",
    "# nombre d'accident par type d'accident par année\n",
    "plt.title('Nombre d\\'accidents par type d\\'accident par année de 2015 à 2020', fontsize=18)\n",
    "for i in accident_par_type_accident_par_annee['Type Accident - Libellé'].unique():\n",
    "    df = accident_par_type_accident_par_annee[accident_par_type_accident_par_annee['Type Accident - Libellé'] == i]\n",
    "    plt.plot(df['Année'], df['nombre'], label=i, marker='o')\n",
    "    plt.legend()\n",
    "    # print(i)"
   ]
  }
 ],
 "metadata": {
  "kernelspec": {
   "display_name": "Python 3.9.7 64-bit",
   "language": "python",
   "name": "python3"
  },
  "language_info": {
   "codemirror_mode": {
    "name": "ipython",
    "version": 3
   },
   "file_extension": ".py",
   "mimetype": "text/x-python",
   "name": "python",
   "nbconvert_exporter": "python",
   "pygments_lexer": "ipython3",
   "version": "3.9.7"
  },
  "vscode": {
   "interpreter": {
    "hash": "aee8b7b246df8f9039afb4144a1f6fd8d2ca17a180786b69acc140d282b71a49"
   }
  }
 },
 "nbformat": 4,
 "nbformat_minor": 5
}
