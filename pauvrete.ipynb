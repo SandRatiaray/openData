{
 "cells": [
  {
   "cell_type": "code",
   "execution_count": null,
   "id": "4cc0c9ff",
   "metadata": {},
   "outputs": [],
   "source": [
    "# library\n",
    "import pandas as pd\n",
    "import numpy as np\n",
    "import matplotlib.pyplot as plt\n",
    "plt.rcParams['figure.figsize'] = (15, 10)"
   ]
  },
  {
   "cell_type": "code",
   "execution_count": null,
   "id": "94e2ed41",
   "metadata": {},
   "outputs": [],
   "source": [
    "# Read the excel file\n",
    "data_raw = pd.read_excel(\"data/taux_pauvrete.xlsx\", sheet_name=\"ERFS_NPA60_06\")"
   ]
  },
  {
   "cell_type": "code",
   "execution_count": null,
   "id": "e179da4c",
   "metadata": {},
   "outputs": [],
   "source": [
    "datas_extract = data_raw.iloc[2:11]\n",
    "datas_extract"
   ]
  },
  {
   "cell_type": "code",
   "execution_count": null,
   "id": "57494e5a",
   "metadata": {
    "scrolled": true
   },
   "outputs": [],
   "source": [
    "# Get columns names\n",
    "columns = datas_extract.iloc[0].values\n",
    "columns"
   ]
  },
  {
   "cell_type": "code",
   "execution_count": null,
   "id": "66a9b6af",
   "metadata": {},
   "outputs": [],
   "source": [
    "# Get rows\n",
    "rows = datas_extract.iloc[1:10].values\n",
    "rows"
   ]
  },
  {
   "cell_type": "code",
   "execution_count": null,
   "id": "1c511b96",
   "metadata": {
    "scrolled": true
   },
   "outputs": [],
   "source": [
    "# Create new DataFrame\n",
    "datas_clean = pd.DataFrame(rows, columns=columns)\n",
    "datas_clean"
   ]
  },
  {
   "cell_type": "code",
   "execution_count": null,
   "id": "604dc170",
   "metadata": {},
   "outputs": [],
   "source": [
    "datas_clean = datas_clean.drop(columns=['2012 (2)', '2010 (1)'])\n",
    "datas_clean\n"
   ]
  },
  {
   "cell_type": "code",
   "execution_count": null,
   "id": "7637bfcb",
   "metadata": {},
   "outputs": [],
   "source": [
    "# dataframe for plots\n",
    "plot1 = datas_clean.loc[0, 1996:2019]\n",
    "plot2 = datas_clean.loc[1, 1996:2019]\n",
    "plot3 = datas_clean.loc[2, 1996:2019]\n",
    "plot4 = datas_clean.loc[3, 1996:2019]\n",
    "plot5 = datas_clean.loc[4, 1996:2019]\n",
    "plot6 = datas_clean.loc[5, 1996:2019]\n",
    "plot7 = datas_clean.loc[6, 1996:2019]\n",
    "\n",
    "df=pd.DataFrame(\n",
    "    {\n",
    "        'Années': plot1.index,\n",
    "        'Moins de 18 ans': plot1.values,\n",
    "        'De 18 à 29 ans': plot2.values,\n",
    "        'De 30 à 39 ans': plot3.values,\n",
    "        'De 40 à 49 ans': plot4.values,\n",
    "        'De 50 à 64 ans': plot5.values,\n",
    "        'De 65 à 74 ans': plot6.values,\n",
    "        '75 ans et plus': plot7.values,\n",
    "    })\n",
    "\n",
    "# multiple line plots\n",
    "plt.plot( 'Années', 'Moins de 18 ans', data=df, marker='', markersize=12, color='blue', linewidth=3)\n",
    "plt.plot( 'Années', 'De 18 à 29 ans', data=df, marker='', markersize=12, color='olive', linewidth=3)\n",
    "plt.plot( 'Années', 'De 30 à 39 ans', data=df, marker='', markersize=12, color='orange', linewidth=3)\n",
    "plt.plot( 'Années', 'De 40 à 49 ans', data=df, marker='', markersize=12, color='green', linewidth=3)\n",
    "plt.plot( 'Années', 'De 50 à 64 ans', data=df, marker='', markersize=12, color='red', linewidth=3)\n",
    "plt.plot( 'Années', 'De 65 à 74 ans', data=df, marker='', markersize=12, color='yellow', linewidth=3)\n",
    "plt.plot( 'Années', '75 ans et plus', data=df, marker='', markersize=12, color='purple', linewidth=3)\n",
    "\n",
    "# title, ticks, labels\n",
    "plt.title(\"Personnes pauvres au seuil de 60% selon l'âge - 1996 à 2019\", fontsize=18)\n",
    "plt.xticks(rotation=45)\n",
    "plt.ylabel('NOMBRE DE PERSONNES (x1000)', fontsize=14)\n",
    "plt.xlabel('ANNÉES', fontsize=14)\n",
    "\n",
    "# show legend\n",
    "plt.legend(bbox_to_anchor=(1,1), fontsize=18)\n",
    "\n",
    "# show graph\n",
    "plt.show()"
   ]
  }
 ],
 "metadata": {
  "kernelspec": {
   "display_name": "Python 3.9.13 64-bit (microsoft store)",
   "language": "python",
   "name": "python3"
  },
  "language_info": {
   "codemirror_mode": {
    "name": "ipython",
    "version": 3
   },
   "file_extension": ".py",
   "mimetype": "text/x-python",
   "name": "python",
   "nbconvert_exporter": "python",
   "pygments_lexer": "ipython3",
   "version": "3.9.13"
  },
  "vscode": {
   "interpreter": {
    "hash": "3731249a38934cd4180149ac5fc03b8272f4a2a297bab802cc56f6909b56b2e3"
   }
  }
 },
 "nbformat": 4,
 "nbformat_minor": 5
}
