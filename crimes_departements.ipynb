{
 "cells": [
  {
   "cell_type": "code",
   "execution_count": 5,
   "id": "1baf312c",
   "metadata": {},
   "outputs": [],
   "source": [
    "# library\n",
    "import pandas as pd\n",
    "import numpy as np\n",
    "import matplotlib.pyplot as plt\n",
    "plt.rcParams['figure.figsize'] = (15, 10)"
   ]
  },
  {
   "cell_type": "code",
   "execution_count": null,
   "id": "120dfc06",
   "metadata": {},
   "outputs": [],
   "source": [
    "# Read the excel file\n",
    "tab4001 = pd.read_excel('./data/tableaux-4001-ts.xlsx', sheet_name=2)\n",
    "tab4001['dept'] = '1'\n",
    "tab4001\n",
    "for i in range(3,98):\n",
    "    df = pd.read_excel('./data/tableaux-4001-ts.xlsx', sheet_name=i)\n",
    "    if i < 21:\n",
    "        dept = str(i - 1)\n",
    "    elif i == 21:\n",
    "        dept = '2A'\n",
    "    elif i == 22:\n",
    "        dept = '2B'\n",
    "    elif i > 22:\n",
    "        dept = str(i - 2)\n",
    "    df['dept'] = dept\n",
    "    tab4001 = pd.concat([tab4001, df], ignore_index=True)"
   ]
  },
  {
   "cell_type": "code",
   "execution_count": null,
   "id": "10f9edae",
   "metadata": {},
   "outputs": [],
   "source": [
    "tab4001.info()"
   ]
  },
  {
   "cell_type": "code",
   "execution_count": null,
   "id": "8a4de695",
   "metadata": {},
   "outputs": [],
   "source": []
  }
 ],
 "metadata": {
  "kernelspec": {
   "display_name": "Python 3 (ipykernel)",
   "language": "python",
   "name": "python3"
  },
  "language_info": {
   "codemirror_mode": {
    "name": "ipython",
    "version": 3
   },
   "file_extension": ".py",
   "mimetype": "text/x-python",
   "name": "python",
   "nbconvert_exporter": "python",
   "pygments_lexer": "ipython3",
   "version": "3.9.2"
  }
 },
 "nbformat": 4,
 "nbformat_minor": 5
}
