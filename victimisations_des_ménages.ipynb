{
 "cells": [
  {
   "cell_type": "code",
   "execution_count": null,
   "id": "97059cdc",
   "metadata": {},
   "outputs": [],
   "source": [
    "import pandas as pd\n",
    "import numpy as np\n",
    "import matplotlib.pyplot as plt"
   ]
  },
  {
   "cell_type": "code",
   "execution_count": null,
   "id": "78705fff",
   "metadata": {
    "scrolled": true
   },
   "outputs": [],
   "source": [
    "df = pd.read_excel('./data/indicateur_victimation_et_insécurité.xlsx', engine='openpyxl', skiprows=7,nrows=19)\n",
    "getYears = df[['INDICATEURS/PERIODE', 2010, 2011, 2012, 2013, 2014, 2015, 2016, 2017, 2018]]\n",
    "getYears"
   ]
  },
  {
   "cell_type": "code",
   "execution_count": null,
   "id": "15a34d0b",
   "metadata": {},
   "outputs": [],
   "source": [
    "violenceOutdoor = getYears.loc[[11, 12]]\n",
    "violenceOutdoor = pd.Series(violenceOutdoor[[2010, 2011, 2012, 2013, 2014, 2015, 2016, 2017, 2018]].sum())\n",
    "violenceOutdoor =pd.DataFrame(violenceOutdoor)\n",
    "\n",
    "violenceOutdoor.columns=[\"nombre de victimes de violences physiques/sexuelles hors ménage\"]\n",
    "violenceOutdoor = violenceOutdoor.T\n",
    "violenceOutdoor = violenceOutdoor.reset_index()\n",
    "violenceOutdoor =violenceOutdoor.rename({'index': 'INDICATEURS/PERIODE'}, axis=1)\n",
    "violenceOutdoor"
   ]
  },
  {
   "cell_type": "code",
   "execution_count": null,
   "id": "5fffee4c",
   "metadata": {
    "scrolled": false
   },
   "outputs": [],
   "source": [
    "robbery = getYears.iloc[[0,3,4,5,13],:]\n",
    "robbery = pd.DataFrame(robbery)\n",
    "robbery = robbery[1:]\n",
    "\n",
    "df2 =[violenceOutdoor,robbery]\n",
    "result = pd.concat(df2,sort=True)\n",
    "result"
   ]
  },
  {
   "cell_type": "code",
   "execution_count": null,
   "id": "0a10eaee",
   "metadata": {
    "scrolled": true
   },
   "outputs": [],
   "source": [
    "firstTiers = result.iloc[:, 0:4]\n",
    "firstTiers = pd.DataFrame(firstTiers)\n",
    "firstTiers['Total'] = firstTiers.sum(axis=1)\n",
    "\n",
    "secondTiers = result.iloc[:, [0,4,5,6]]\n",
    "secondTiers = pd.DataFrame(secondTiers)\n",
    "secondTiers['Total'] = secondTiers.sum(axis=1)\n",
    "\n",
    "lastTiers = result.iloc[:,[0,7,8,9]]\n",
    "lastTiers = pd.DataFrame(lastTiers)\n",
    "lastTiers['Total'] = lastTiers.sum(axis=1)"
   ]
  },
  {
   "cell_type": "code",
   "execution_count": null,
   "id": "c5c1f210",
   "metadata": {},
   "outputs": [],
   "source": [
    "fig = plt.figure()\n",
    "ax = fig.add_axes([0,0,1,1])\n",
    "ax.axis('equal')\n",
    "x = firstTiers[\"INDICATEURS/PERIODE\"]\n",
    "y= firstTiers[\"Total\"]\n",
    "ax.pie(y,shadow=True, autopct='%1.2f%%')\n",
    "plt.title(\"Victimisation des ménages entre 2010 et 2012\")\n",
    "plt.show()"
   ]
  },
  {
   "cell_type": "code",
   "execution_count": null,
   "id": "23f20fbc",
   "metadata": {
    "scrolled": true
   },
   "outputs": [],
   "source": [
    "fig = plt.figure()\n",
    "ax = fig.add_axes([0,0,1,1])\n",
    "ax.axis('equal')\n",
    "x = secondTiers[\"INDICATEURS/PERIODE\"]\n",
    "y= secondTiers[\"Total\"]\n",
    "ax.pie(y,shadow=True, autopct='%1.2f%%')\n",
    "plt.legend(x ,bbox_to_anchor=(1,0))\n",
    "plt.title(\"Victimisation des ménages entre 2013 et 2015\")\n",
    "plt.show()"
   ]
  },
  {
   "cell_type": "code",
   "execution_count": null,
   "id": "19f795c8",
   "metadata": {
    "scrolled": true
   },
   "outputs": [],
   "source": [
    "fig = plt.figure()\n",
    "ax = fig.add_axes([0,0,1,1])\n",
    "ax.axis('equal')\n",
    "x = lastTiers[\"INDICATEURS/PERIODE\"]\n",
    "y= lastTiers[\"Total\"]\n",
    "ax.pie(y,shadow=True, autopct='%1.2f%%')\n",
    "plt.title(\"Victimisation des ménages entre 2016 et 2018\")\n",
    "plt.show()"
   ]
  },
  {
   "cell_type": "code",
   "execution_count": null,
   "id": "94872cd2",
   "metadata": {},
   "outputs": [],
   "source": []
  }
 ],
 "metadata": {
  "kernelspec": {
   "display_name": "Python 3.9.13 64-bit (microsoft store)",
   "language": "python",
   "name": "python3"
  },
  "language_info": {
   "codemirror_mode": {
    "name": "ipython",
    "version": 3
   },
   "file_extension": ".py",
   "mimetype": "text/x-python",
   "name": "python",
   "nbconvert_exporter": "python",
   "pygments_lexer": "ipython3",
   "version": "3.9.13"
  },
  "vscode": {
   "interpreter": {
    "hash": "3731249a38934cd4180149ac5fc03b8272f4a2a297bab802cc56f6909b56b2e3"
   }
  }
 },
 "nbformat": 4,
 "nbformat_minor": 5
}
